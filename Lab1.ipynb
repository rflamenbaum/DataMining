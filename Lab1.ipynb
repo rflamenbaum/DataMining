{
 "cells": [
  {
   "cell_type": "markdown",
   "metadata": {},
   "source": [
    "### San Diego Crime Statistics\n",
    "    \n",
    "- There must be 10 or more attributes for analyzing the data (both continuous and discrete),\n",
    "- There must be at least 30,000 records to classify in the data\n",
    "- There must be a good documentation of the dataset"
   ]
  },
  {
   "cell_type": "code",
   "execution_count": 1,
   "metadata": {
    "collapsed": true
   },
   "outputs": [],
   "source": [
    "import pandas as pd"
   ]
  },
  {
   "cell_type": "code",
   "execution_count": 19,
   "metadata": {},
   "outputs": [
    {
     "data": {
      "text/html": [
       "<div>\n",
       "<table border=\"1\" class=\"dataframe\">\n",
       "  <thead>\n",
       "    <tr style=\"text-align: right;\">\n",
       "      <th></th>\n",
       "      <th>OBJECTID</th>\n",
       "      <th>TRACTCE10</th>\n",
       "      <th>BLOCKCE10</th>\n",
       "      <th>ALAND10</th>\n",
       "      <th>LOGRECNO</th>\n",
       "      <th>PLACE</th>\n",
       "      <th>BLKGRP</th>\n",
       "      <th>POP100</th>\n",
       "      <th>HU100</th>\n",
       "      <th>date</th>\n",
       "      <th>...</th>\n",
       "      <th>comm_pop</th>\n",
       "      <th>asr_zone</th>\n",
       "      <th>council</th>\n",
       "      <th>council_pop</th>\n",
       "      <th>desc_</th>\n",
       "      <th>Law_EnforcementID</th>\n",
       "      <th>Law_Enf_Distance</th>\n",
       "      <th>Area_Feet</th>\n",
       "      <th>CrimeIndicator</th>\n",
       "      <th>Lamp_Distance_Feet</th>\n",
       "    </tr>\n",
       "  </thead>\n",
       "  <tbody>\n",
       "    <tr>\n",
       "      <th>0</th>\n",
       "      <td>1</td>\n",
       "      <td>16902</td>\n",
       "      <td>1159</td>\n",
       "      <td>155475</td>\n",
       "      <td>769322</td>\n",
       "      <td>99999</td>\n",
       "      <td>1</td>\n",
       "      <td>0</td>\n",
       "      <td>0</td>\n",
       "      <td>NaN</td>\n",
       "      <td>...</td>\n",
       "      <td>NaN</td>\n",
       "      <td>NaN</td>\n",
       "      <td>NaN</td>\n",
       "      <td>NaN</td>\n",
       "      <td>NaN</td>\n",
       "      <td>22</td>\n",
       "      <td>16248.139590</td>\n",
       "      <td>5.096823e+05</td>\n",
       "      <td>0</td>\n",
       "      <td>NaN</td>\n",
       "    </tr>\n",
       "    <tr>\n",
       "      <th>1</th>\n",
       "      <td>2</td>\n",
       "      <td>16902</td>\n",
       "      <td>1012</td>\n",
       "      <td>682684</td>\n",
       "      <td>781916</td>\n",
       "      <td>99999</td>\n",
       "      <td>1</td>\n",
       "      <td>0</td>\n",
       "      <td>0</td>\n",
       "      <td>NaN</td>\n",
       "      <td>...</td>\n",
       "      <td>NaN</td>\n",
       "      <td>NaN</td>\n",
       "      <td>NaN</td>\n",
       "      <td>NaN</td>\n",
       "      <td>NaN</td>\n",
       "      <td>30</td>\n",
       "      <td>31647.803950</td>\n",
       "      <td>2.238002e+06</td>\n",
       "      <td>0</td>\n",
       "      <td>NaN</td>\n",
       "    </tr>\n",
       "    <tr>\n",
       "      <th>2</th>\n",
       "      <td>3</td>\n",
       "      <td>16902</td>\n",
       "      <td>1186</td>\n",
       "      <td>439184</td>\n",
       "      <td>781733</td>\n",
       "      <td>99999</td>\n",
       "      <td>1</td>\n",
       "      <td>42</td>\n",
       "      <td>13</td>\n",
       "      <td>10/27/2010</td>\n",
       "      <td>...</td>\n",
       "      <td>0.0</td>\n",
       "      <td>NaN</td>\n",
       "      <td>NONE</td>\n",
       "      <td>0.0</td>\n",
       "      <td>ARSON:PROP (F)</td>\n",
       "      <td>22</td>\n",
       "      <td>31847.085130</td>\n",
       "      <td>1.439746e+06</td>\n",
       "      <td>1</td>\n",
       "      <td>NaN</td>\n",
       "    </tr>\n",
       "    <tr>\n",
       "      <th>3</th>\n",
       "      <td>4</td>\n",
       "      <td>16902</td>\n",
       "      <td>1186</td>\n",
       "      <td>439184</td>\n",
       "      <td>781733</td>\n",
       "      <td>99999</td>\n",
       "      <td>1</td>\n",
       "      <td>42</td>\n",
       "      <td>13</td>\n",
       "      <td>7/15/2011</td>\n",
       "      <td>...</td>\n",
       "      <td>0.0</td>\n",
       "      <td>NaN</td>\n",
       "      <td>NONE</td>\n",
       "      <td>0.0</td>\n",
       "      <td>TAKE VEHICLE W/O OWNER'S CONSENT/VEHICLE THEFT</td>\n",
       "      <td>22</td>\n",
       "      <td>31847.085130</td>\n",
       "      <td>1.439746e+06</td>\n",
       "      <td>1</td>\n",
       "      <td>NaN</td>\n",
       "    </tr>\n",
       "    <tr>\n",
       "      <th>4</th>\n",
       "      <td>5</td>\n",
       "      <td>16811</td>\n",
       "      <td>2013</td>\n",
       "      <td>5149</td>\n",
       "      <td>780478</td>\n",
       "      <td>39766</td>\n",
       "      <td>2</td>\n",
       "      <td>15</td>\n",
       "      <td>7</td>\n",
       "      <td>NaN</td>\n",
       "      <td>...</td>\n",
       "      <td>NaN</td>\n",
       "      <td>NaN</td>\n",
       "      <td>NaN</td>\n",
       "      <td>NaN</td>\n",
       "      <td>NaN</td>\n",
       "      <td>12</td>\n",
       "      <td>8634.990981</td>\n",
       "      <td>1.687821e+04</td>\n",
       "      <td>0</td>\n",
       "      <td>NaN</td>\n",
       "    </tr>\n",
       "  </tbody>\n",
       "</table>\n",
       "<p>5 rows × 33 columns</p>\n",
       "</div>"
      ],
      "text/plain": [
       "   OBJECTID  TRACTCE10  BLOCKCE10  ALAND10  LOGRECNO  PLACE  BLKGRP  POP100  \\\n",
       "0         1      16902       1159   155475    769322  99999       1       0   \n",
       "1         2      16902       1012   682684    781916  99999       1       0   \n",
       "2         3      16902       1186   439184    781733  99999       1      42   \n",
       "3         4      16902       1186   439184    781733  99999       1      42   \n",
       "4         5      16811       2013     5149    780478  39766       2      15   \n",
       "\n",
       "   HU100        date        ...          comm_pop  asr_zone  council  \\\n",
       "0      0         NaN        ...               NaN       NaN      NaN   \n",
       "1      0         NaN        ...               NaN       NaN      NaN   \n",
       "2     13  10/27/2010        ...               0.0       NaN     NONE   \n",
       "3     13   7/15/2011        ...               0.0       NaN     NONE   \n",
       "4      7         NaN        ...               NaN       NaN      NaN   \n",
       "\n",
       "   council_pop                                           desc_  \\\n",
       "0          NaN                                             NaN   \n",
       "1          NaN                                             NaN   \n",
       "2          0.0                                  ARSON:PROP (F)   \n",
       "3          0.0  TAKE VEHICLE W/O OWNER'S CONSENT/VEHICLE THEFT   \n",
       "4          NaN                                             NaN   \n",
       "\n",
       "  Law_EnforcementID  Law_Enf_Distance     Area_Feet  CrimeIndicator  \\\n",
       "0                22      16248.139590  5.096823e+05               0   \n",
       "1                30      31647.803950  2.238002e+06               0   \n",
       "2                22      31847.085130  1.439746e+06               1   \n",
       "3                22      31847.085130  1.439746e+06               1   \n",
       "4                12       8634.990981  1.687821e+04               0   \n",
       "\n",
       "  Lamp_Distance_Feet  \n",
       "0                NaN  \n",
       "1                NaN  \n",
       "2                NaN  \n",
       "3                NaN  \n",
       "4                NaN  \n",
       "\n",
       "[5 rows x 33 columns]"
      ]
     },
     "execution_count": 19,
     "metadata": {},
     "output_type": "execute_result"
    }
   ],
   "source": [
    "data = pd.read_csv('Crime_SDCounty.csv',encoding='utf-8')\n",
    "data.head()"
   ]
  },
  {
   "cell_type": "code",
   "execution_count": 24,
   "metadata": {},
   "outputs": [
    {
     "name": "stdout",
     "output_type": "stream",
     "text": [
      "Total Variables:  33\n",
      "Total Rows: 747213\n"
     ]
    }
   ],
   "source": [
    "print('Total Variables: ',len(data.columns))\n",
    "print('Total Rows: {}'.format(data.shape[0]))"
   ]
  },
  {
   "cell_type": "code",
   "execution_count": 35,
   "metadata": {},
   "outputs": [
    {
     "data": {
      "text/plain": [
       "0                                                       NaN\n",
       "1                                                       NaN\n",
       "2                                            ARSON:PROP (F)\n",
       "3            TAKE VEHICLE W/O OWNER'S CONSENT/VEHICLE THEFT\n",
       "4                                                       NaN\n",
       "5                                      RESIDENTIAL BURGLARY\n",
       "6                                    VEHICLE BREAK-IN/THEFT\n",
       "7                                    VEHICLE BREAK-IN/THEFT\n",
       "8                                VANDALISM (LESS THAN $400)\n",
       "9                     POSSESS NARCOTIC CONTROLLED SUBSTANCE\n",
       "10                                                    FRAUD\n",
       "11                            POSS CONTRL SUB PARAPHERNALIA\n",
       "12                                                    FRAUD\n",
       "13                                     RESIDENTIAL BURGLARY\n",
       "14                                 VANDALISM ($400 OR MORE)\n",
       "15                                              PETTY THEFT\n",
       "16                             DISORDERLY CONDUCT:  ALCOHOL\n",
       "17                                   VEHICLE BREAK-IN/THEFT\n",
       "18               GRAND THEFT:MONEY/LABOR/PROPERTY OVER $400\n",
       "19                                        BATTERY ON PERSON\n",
       "20                             VANDALISM ($400 OR MORE) (F)\n",
       "21                            POSS CONTRL SUB PARAPHERNALIA\n",
       "22                             DISORDERLY CONDUCT:  ALCOHOL\n",
       "23                                      COMMERCIAL BURGLARY\n",
       "24                             DISORDERLY CONDUCT:  ALCOHOL\n",
       "25                                   VEHICLE BREAK-IN/THEFT\n",
       "26                                                    FRAUD\n",
       "27                                      COMMERCIAL BURGLARY\n",
       "28                                        ARSON OF PROPERTY\n",
       "29                                      COMMERCIAL BURGLARY\n",
       "                                ...                        \n",
       "747183                                    DUI ALC/DRUGS (M)\n",
       "747184                               VEHICLE BREAK-IN/THEFT\n",
       "747185                             DRUNK IN PUBLIC: ALCOHOL\n",
       "747186                                    DUI ALC/DRUGS (M)\n",
       "747187                                    DUI ALC/DRUGS (M)\n",
       "747188                                    DUI ALC/DRUGS (M)\n",
       "747189                                    DUI ALC/DRUGS (M)\n",
       "747190                                    DUI ALC/DRUGS (M)\n",
       "747191                                    DUI ALC/DRUGS (M)\n",
       "747192                                    DUI ALC/DRUGS (M)\n",
       "747193                               VEHICLE BREAK-IN/THEFT\n",
       "747194                                    DUI ALC/DRUGS (M)\n",
       "747195                             DRUNK IN PUBLIC: ALCOHOL\n",
       "747196                             DRUNK IN PUBLIC: ALCOHOL\n",
       "747197                            PETTY THEFT(Shoplift) (M)\n",
       "747198                                  COMMERCIAL BURGLARY\n",
       "747199                                  COMMERCIAL BURGLARY\n",
       "747200                               VEHICLE BREAK-IN/THEFT\n",
       "747201                                                  NaN\n",
       "747202                                                  NaN\n",
       "747203                               VEHICLE BREAK-IN/THEFT\n",
       "747204                  GRAND THEFT (All Other Larceny) (F)\n",
       "747205                         VANDALISM [$400 OR LESS] (M)\n",
       "747206                                 RESIDENTIAL BURGLARY\n",
       "747207                               VEHICLE BREAK-IN/THEFT\n",
       "747208                                                  NaN\n",
       "747209    TAKE VEHICLE W/O OWNER'S CONSENT/VEHICLE THEFT...\n",
       "747210                                                  NaN\n",
       "747211                                                  NaN\n",
       "747212                                                  NaN\n",
       "Name: desc_, dtype: object"
      ]
     },
     "execution_count": 35,
     "metadata": {},
     "output_type": "execute_result"
    }
   ],
   "source": [
    "data['desc_']"
   ]
  },
  {
   "cell_type": "code",
   "execution_count": 32,
   "metadata": {},
   "outputs": [
    {
     "name": "stdout",
     "output_type": "stream",
     "text": [
      "<class 'pandas.core.frame.DataFrame'>\n",
      "RangeIndex: 747213 entries, 0 to 747212\n",
      "Data columns (total 33 columns):\n",
      "OBJECTID              747213 non-null int64\n",
      "TRACTCE10             747213 non-null int64\n",
      "BLOCKCE10             747213 non-null int64\n",
      "ALAND10               747213 non-null int64\n",
      "LOGRECNO              747213 non-null int64\n",
      "PLACE                 747213 non-null int64\n",
      "BLKGRP                747213 non-null int64\n",
      "POP100                747213 non-null int64\n",
      "HU100                 747213 non-null int64\n",
      "date                  727534 non-null object\n",
      "year                  727534 non-null float64\n",
      "month                 727534 non-null float64\n",
      "day                   727534 non-null float64\n",
      "week                  727534 non-null float64\n",
      "dow                   727534 non-null float64\n",
      "time                  727534 non-null object\n",
      "hour                  727534 non-null float64\n",
      "address               727534 non-null object\n",
      "is_night              727534 non-null float64\n",
      "type                  727534 non-null object\n",
      "city                  727534 non-null object\n",
      "nbrhood               727534 non-null object\n",
      "community             727534 non-null object\n",
      "comm_pop              727534 non-null float64\n",
      "asr_zone              361945 non-null float64\n",
      "council               727534 non-null object\n",
      "council_pop           727534 non-null float64\n",
      "desc_                 727498 non-null object\n",
      "Law_EnforcementID     747213 non-null int64\n",
      "Law_Enf_Distance      747213 non-null float64\n",
      "Area_Feet             747213 non-null float64\n",
      "CrimeIndicator        747213 non-null int64\n",
      "Lamp_Distance_Feet    361945 non-null float64\n",
      "dtypes: float64(13), int64(11), object(9)\n",
      "memory usage: 188.1+ MB\n"
     ]
    }
   ],
   "source": [
    "data.info()"
   ]
  },
  {
   "cell_type": "code",
   "execution_count": 25,
   "metadata": {},
   "outputs": [
    {
     "name": "stdout",
     "output_type": "stream",
     "text": [
      "Null Values:\n"
     ]
    },
    {
     "data": {
      "text/plain": [
       "OBJECTID                   0\n",
       "TRACTCE10                  0\n",
       "BLOCKCE10                  0\n",
       "ALAND10                    0\n",
       "LOGRECNO                   0\n",
       "PLACE                      0\n",
       "BLKGRP                     0\n",
       "POP100                     0\n",
       "HU100                      0\n",
       "date                   19679\n",
       "year                   19679\n",
       "month                  19679\n",
       "day                    19679\n",
       "week                   19679\n",
       "dow                    19679\n",
       "time                   19679\n",
       "hour                   19679\n",
       "address                19679\n",
       "is_night               19679\n",
       "type                   19679\n",
       "city                   19679\n",
       "nbrhood                19679\n",
       "community              19679\n",
       "comm_pop               19679\n",
       "asr_zone              385268\n",
       "council                19679\n",
       "council_pop            19679\n",
       "desc_                  19715\n",
       "Law_EnforcementID          0\n",
       "Law_Enf_Distance           0\n",
       "Area_Feet                  0\n",
       "CrimeIndicator             0\n",
       "Lamp_Distance_Feet    385268\n",
       "dtype: int64"
      ]
     },
     "execution_count": 25,
     "metadata": {},
     "output_type": "execute_result"
    }
   ],
   "source": [
    "print('Null Values:')\n",
    "data.isnull().sum()"
   ]
  },
  {
   "cell_type": "code",
   "execution_count": 26,
   "metadata": {},
   "outputs": [
    {
     "data": {
      "text/plain": [
       "(361911, 33)"
      ]
     },
     "execution_count": 26,
     "metadata": {},
     "output_type": "execute_result"
    }
   ],
   "source": [
    "#Drop NA values and check dimensions:\n",
    "t = data.dropna()\n",
    "t.shape"
   ]
  },
  {
   "cell_type": "code",
   "execution_count": 18,
   "metadata": {},
   "outputs": [
    {
     "name": "stdout",
     "output_type": "stream",
     "text": [
      "Categorical Variables:  9\n"
     ]
    }
   ],
   "source": [
    "cat = 0\n",
    "for c,r in data.iteritems():\n",
    "    if r.dtype == object:\n",
    "        cat +=1\n",
    "print('Categorical Variables: ',cat)"
   ]
  },
  {
   "cell_type": "code",
   "execution_count": 31,
   "metadata": {},
   "outputs": [
    {
     "name": "stdout",
     "output_type": "stream",
     "text": [
      "Range: 2008 to 2012\n"
     ]
    }
   ],
   "source": [
    "#Years of crime stats:\n",
    "print('Range: {0:.0f} to {1:.0f}'.format(data['year'].min(),data['year'].max()))"
   ]
  }
 ],
 "metadata": {
  "anaconda-cloud": {},
  "kernelspec": {
   "display_name": "Python [conda root]",
   "language": "python",
   "name": "conda-root-py"
  },
  "language_info": {
   "codemirror_mode": {
    "name": "ipython",
    "version": 3
   },
   "file_extension": ".py",
   "mimetype": "text/x-python",
   "name": "python",
   "nbconvert_exporter": "python",
   "pygments_lexer": "ipython3",
   "version": "3.5.2"
  }
 },
 "nbformat": 4,
 "nbformat_minor": 1
}
